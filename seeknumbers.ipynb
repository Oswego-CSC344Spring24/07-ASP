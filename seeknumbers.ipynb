{
   "cell_type": "markdown",
   "cells": [
      {
         "cell_type": "markdown",
         "metadata": {},
         "source": [
            "# Problem Description.\n",
            "\n",
            "Given a square grid as shown below. \n",
            "\n",
            "<img width=\"300\" height=\"300\" src=\"img/grid.png\">\n",
            "\n",
            "\n",
            "Write an ASP program to generate a directed path from the white circle to the black circle by linking horizontally or vertically adjacent cells.The path traverses cells of the square grid without ever crossing or intersecting itself\n",
            "\n",
            "The square grid is represented by facts of the following predicates:\n",
            "```\n",
            "cell(X,Y).   % the cell (X,Y) belongs to the grid\n",
            "first(X,Y).  % the first cell of the path (marked with a white circle) is (X,Y)\n",
            "final(X,Y).  % the final cell of the path (marked with a black circle) is (X,Y)\n",
            "```\n",
            "The example shown before is represented by the following facts:\n",
            "```\n",
            "cell(1..5,1..5).\n",
            "first(4,1).\n",
            "final(1,3).\n",
            "```\n",
            "\n",
            "The solution is represented by atoms of predicate ``path/4``:  \n",
            "```\n",
            "path(X1,Y1,X2,Y2). % the path has an edge between the cells (X1,Y1) and (X2,Y2)\n",
            "```   \n",
            "\n",
            "For instance, the solution of the example consists of the following atoms:\n",
            "```\n",
            "path(4,1,3,1)  path(3,1,2,1)  path(2,1,1,1) \n",
            "path(1,1,1,2)  path(1,2,1,3) \n",
            "```"
         ]
      }
   ],
   "metadata": {
      "kernelspec": {
         "display_name": "Python 3 (ipykernel)",
         "language": "python",
         "name": "python3"
      },
      "language_info": {
         "codemirror_mode": {
            "name": "ipython",
            "version": 3
         },
         "file_extension": ".py",
         "mimetype": "text/x-python",
         "name": "python",
         "nbconvert_exporter": "python",
         "pygments_lexer": "ipython3",
         "version": "3.9.7"
      }
   },
   "nbformat": 4,
   "nbformat_minor": 4
}
